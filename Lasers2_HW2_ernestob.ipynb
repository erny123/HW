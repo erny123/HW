{
  "nbformat": 4,
  "nbformat_minor": 0,
  "metadata": {
    "colab": {
      "name": "Lasers2-HW2-ernestob",
      "provenance": [],
      "authorship_tag": "ABX9TyOaDZQ0GLvRRQ/9fosFDDS0",
      "include_colab_link": true
    },
    "kernelspec": {
      "name": "python3",
      "display_name": "Python 3"
    },
    "language_info": {
      "name": "python"
    }
  },
  "cells": [
    {
      "cell_type": "markdown",
      "metadata": {
        "id": "view-in-github",
        "colab_type": "text"
      },
      "source": [
        "<a href=\"https://colab.research.google.com/github/erny123/HW/blob/main/Lasers2_HW2_ernestob.ipynb\" target=\"_parent\"><img src=\"https://colab.research.google.com/assets/colab-badge.svg\" alt=\"Open In Colab\"/></a>"
      ]
    },
    {
      "cell_type": "markdown",
      "source": [
        "##Lasers 2 - HW2\n",
        "\n",
        "Ernesto Barraza-Valdez\n",
        "3/15/2022"
      ],
      "metadata": {
        "id": "Ubw3YwkWmK6S"
      }
    },
    {
      "cell_type": "code",
      "execution_count": 1,
      "metadata": {
        "id": "UgY9_J3CPB3F"
      },
      "outputs": [],
      "source": [
        "from sympy import *\n",
        "import numpy as np\n",
        "from sympy.matrices import Matrix\n",
        "import matplotlib.pyplot as plt"
      ]
    },
    {
      "cell_type": "code",
      "source": [
        "l = Symbol('l', real=True) #l lengt from mirror to grating\n",
        "b = Symbol('b', real=True) #b length (slanted length) from grating to grating\n",
        "d = Symbol('d', real=True) #grating density\n",
        "c = Symbol('c', real=True) #speed of light\n",
        "omega = Symbol('omega', real=True) #frequency\n",
        "theta1 = Symbol('theta1', real=True) #incoming angle\n",
        "theta2 = Symbol('theta2', real=True) # outgoing eangle\n",
        "N = Symbol('N', real=True) # grating spacing"
      ],
      "metadata": {
        "id": "bunRmrzFPMxk"
      },
      "execution_count": 376,
      "outputs": []
    },
    {
      "cell_type": "code",
      "source": [
        "Grat1 = Matrix([[cos(theta2)/cos(theta1),0],[0,cos(theta1)/cos(theta2)]])\n",
        "Grat2 = Matrix([[cos(theta1)/cos(theta2),0],[0,cos(theta2)/cos(theta1)]])\n",
        "B = Matrix([[1,b],[0,1]])\n",
        "L = Matrix([[1,l],[0,1]])\n",
        "mir = Matrix([[1,0],[0,1]])\n",
        "SagGrat = Matrix([ [1,0], [0,1] ])"
      ],
      "metadata": {
        "id": "4Pdh6XU0DKD6"
      },
      "execution_count": 377,
      "outputs": []
    },
    {
      "cell_type": "markdown",
      "source": [
        "Grating Matrices in tangental and sagital:"
      ],
      "metadata": {
        "id": "s_FmdjZUufYk"
      }
    },
    {
      "cell_type": "code",
      "source": [
        "Grat1"
      ],
      "metadata": {
        "colab": {
          "base_uri": "https://localhost:8080/",
          "height": 69
        },
        "id": "YI52jxXJueEv",
        "outputId": "f153e8c5-589a-467e-fe1e-87d776400473"
      },
      "execution_count": 378,
      "outputs": [
        {
          "output_type": "execute_result",
          "data": {
            "text/plain": [
              "Matrix([\n",
              "[cos(theta2)/cos(theta1),                       0],\n",
              "[                      0, cos(theta1)/cos(theta2)]])"
            ],
            "text/latex": "$\\displaystyle \\left[\\begin{matrix}\\frac{\\cos{\\left(\\theta_{2} \\right)}}{\\cos{\\left(\\theta_{1} \\right)}} & 0\\\\0 & \\frac{\\cos{\\left(\\theta_{1} \\right)}}{\\cos{\\left(\\theta_{2} \\right)}}\\end{matrix}\\right]$"
          },
          "metadata": {},
          "execution_count": 378
        }
      ]
    },
    {
      "cell_type": "code",
      "source": [
        "SagGrat"
      ],
      "metadata": {
        "colab": {
          "base_uri": "https://localhost:8080/",
          "height": 57
        },
        "id": "1EsRLvwOuuGS",
        "outputId": "2e6ce9b1-9d89-4e45-e948-b1a61cd83420"
      },
      "execution_count": 381,
      "outputs": [
        {
          "output_type": "execute_result",
          "data": {
            "text/plain": [
              "Matrix([\n",
              "[1, 0],\n",
              "[0, 1]])"
            ],
            "text/latex": "$\\displaystyle \\left[\\begin{matrix}1 & 0\\\\0 & 1\\end{matrix}\\right]$"
          },
          "metadata": {},
          "execution_count": 381
        }
      ]
    },
    {
      "cell_type": "markdown",
      "source": [
        "Matrices along length b and l, mirror"
      ],
      "metadata": {
        "id": "lfXd8GzPui1l"
      }
    },
    {
      "cell_type": "code",
      "source": [
        "B"
      ],
      "metadata": {
        "colab": {
          "base_uri": "https://localhost:8080/",
          "height": 57
        },
        "id": "3pRICJR3ul2y",
        "outputId": "ae8aa461-445b-498e-8c48-3d4dce64d8d9"
      },
      "execution_count": 379,
      "outputs": [
        {
          "output_type": "execute_result",
          "data": {
            "text/plain": [
              "Matrix([\n",
              "[1, b],\n",
              "[0, 1]])"
            ],
            "text/latex": "$\\displaystyle \\left[\\begin{matrix}1 & b\\\\0 & 1\\end{matrix}\\right]$"
          },
          "metadata": {},
          "execution_count": 379
        }
      ]
    },
    {
      "cell_type": "code",
      "source": [
        "L"
      ],
      "metadata": {
        "colab": {
          "base_uri": "https://localhost:8080/",
          "height": 57
        },
        "id": "kBF6RAe8unSb",
        "outputId": "6b3ded29-dd19-4a3f-e28a-febbeecf616d"
      },
      "execution_count": 380,
      "outputs": [
        {
          "output_type": "execute_result",
          "data": {
            "text/plain": [
              "Matrix([\n",
              "[1, l],\n",
              "[0, 1]])"
            ],
            "text/latex": "$\\displaystyle \\left[\\begin{matrix}1 & l\\\\0 & 1\\end{matrix}\\right]$"
          },
          "metadata": {},
          "execution_count": 380
        }
      ]
    },
    {
      "cell_type": "code",
      "source": [
        "mir"
      ],
      "metadata": {
        "colab": {
          "base_uri": "https://localhost:8080/",
          "height": 57
        },
        "id": "Lm19Zt1auxeU",
        "outputId": "359c0291-0ede-4d08-a798-168b8ff08626"
      },
      "execution_count": 382,
      "outputs": [
        {
          "output_type": "execute_result",
          "data": {
            "text/plain": [
              "Matrix([\n",
              "[1, 0],\n",
              "[0, 1]])"
            ],
            "text/latex": "$\\displaystyle \\left[\\begin{matrix}1 & 0\\\\0 & 1\\end{matrix}\\right]$"
          },
          "metadata": {},
          "execution_count": 382
        }
      ]
    },
    {
      "cell_type": "markdown",
      "source": [
        "Now the total round trip matrix in tangental is just: \n",
        "\n",
        "$M_{total} = M_{grating}\\cdot M_b\\cdot M_{grating} \\cdot M_l \\cdot M_{mirror} \\cdot M_l \\cdot M_{grating} \\cdot M_b \\cdot M_{grating}$"
      ],
      "metadata": {
        "id": "mqouE4Tcuy6r"
      }
    },
    {
      "cell_type": "markdown",
      "source": [
        "For tangental:"
      ],
      "metadata": {
        "id": "PhX0kEFpvSGP"
      }
    },
    {
      "cell_type": "code",
      "source": [
        "Mtotal = Grat2*B*Grat1*L*mir*L*Grat2*B*Grat1\n",
        "simplify(Mtotal)"
      ],
      "metadata": {
        "colab": {
          "base_uri": "https://localhost:8080/",
          "height": 68
        },
        "id": "WX7XvvA1D4hZ",
        "outputId": "30bc8aff-bfb9-466c-92b9-d22f58991c00"
      },
      "execution_count": 21,
      "outputs": [
        {
          "output_type": "execute_result",
          "data": {
            "text/plain": [
              "Matrix([\n",
              "[1, 2*b*cos(theta1)**2/cos(theta2)**2 + 2*l],\n",
              "[0,                                       1]])"
            ],
            "text/latex": "$\\displaystyle \\left[\\begin{matrix}1 & \\frac{2 b \\cos^{2}{\\left(\\theta_{1} \\right)}}{\\cos^{2}{\\left(\\theta_{2} \\right)}} + 2 l\\\\0 & 1\\end{matrix}\\right]$"
          },
          "metadata": {},
          "execution_count": 21
        }
      ]
    },
    {
      "cell_type": "markdown",
      "source": [
        "For sagittal:"
      ],
      "metadata": {
        "id": "wJSFARSAvT2k"
      }
    },
    {
      "cell_type": "code",
      "source": [
        "Mtotalsag = SagGrat*B*SagGrat*L*mir*L*SagGrat*B*SagGrat\n",
        "simplify(Mtotalsag)"
      ],
      "metadata": {
        "colab": {
          "base_uri": "https://localhost:8080/",
          "height": 57
        },
        "id": "3RpORFzAuBTg",
        "outputId": "73c84796-ce12-427b-f0c6-4a7ead98cc0f"
      },
      "execution_count": 114,
      "outputs": [
        {
          "output_type": "execute_result",
          "data": {
            "text/plain": [
              "Matrix([\n",
              "[1, 2*b + 2*l],\n",
              "[0,         1]])"
            ],
            "text/latex": "$\\displaystyle \\left[\\begin{matrix}1 & 2 b + 2 l\\\\0 & 1\\end{matrix}\\right]$"
          },
          "metadata": {},
          "execution_count": 114
        }
      ]
    },
    {
      "cell_type": "markdown",
      "source": [
        "\n",
        "\n",
        "---\n",
        "\n",
        "##1b"
      ],
      "metadata": {
        "id": "2QlxmgfFafKR"
      }
    },
    {
      "cell_type": "markdown",
      "source": [
        "The $cost(\\theta_2)$ can be found using the formula for a grating below, given $d$, $N$, $\\omega$, and $\\theta_1$"
      ],
      "metadata": {
        "id": "JZAPfpAQvWcF"
      }
    },
    {
      "cell_type": "code",
      "source": [
        "cost2 = sqrt(1-(N*(2*pi*c/omega)/d - sin(theta1))**2)\n",
        "cost2"
      ],
      "metadata": {
        "colab": {
          "base_uri": "https://localhost:8080/",
          "height": 68
        },
        "id": "awDqY1GgadBq",
        "outputId": "6105d3c5-240a-401b-8d98-0195fade83c2"
      },
      "execution_count": 22,
      "outputs": [
        {
          "output_type": "execute_result",
          "data": {
            "text/plain": [
              "sqrt(1 - (2*pi*N*c/(d*omega) - sin(theta1))**2)"
            ],
            "text/latex": "$\\displaystyle \\sqrt{1 - \\left(\\frac{2 \\pi N c}{d \\omega} - \\sin{\\left(\\theta_{1} \\right)}\\right)^{2}}$"
          },
          "metadata": {},
          "execution_count": 22
        }
      ]
    },
    {
      "cell_type": "markdown",
      "source": [
        "Because our total matrix looks just like a ray traversing through space, we know that our total phase change is just:\n",
        "\n",
        "$\\phi(z) = j \\: k \\: z$\n",
        "\n",
        "Where our $z$ is the B element in our $M_{total}$ :"
      ],
      "metadata": {
        "id": "V7GpXwTqvmWm"
      }
    },
    {
      "cell_type": "code",
      "source": [
        "L2 = simplify(Mtotal[1])\n",
        "L2"
      ],
      "metadata": {
        "colab": {
          "base_uri": "https://localhost:8080/",
          "height": 58
        },
        "id": "5iH1LchRahk1",
        "outputId": "cb2a3af4-d88f-4ad1-fcdb-939bca588b55"
      },
      "execution_count": 23,
      "outputs": [
        {
          "output_type": "execute_result",
          "data": {
            "text/plain": [
              "2*b*cos(theta1)**2/cos(theta2)**2 + 2*l"
            ],
            "text/latex": "$\\displaystyle \\frac{2 b \\cos^{2}{\\left(\\theta_{1} \\right)}}{\\cos^{2}{\\left(\\theta_{2} \\right)}} + 2 l$"
          },
          "metadata": {},
          "execution_count": 23
        }
      ]
    },
    {
      "cell_type": "markdown",
      "source": [
        "Using $k = 2\\pi /\\lambda = \\omega /c$\n",
        "\n",
        "Our $\\phi$ is"
      ],
      "metadata": {
        "id": "o5gXqS6Fv8g7"
      }
    },
    {
      "cell_type": "code",
      "source": [
        "phi = omega/c*L2.subs(cos(theta2), cost2)\n",
        "phi"
      ],
      "metadata": {
        "colab": {
          "base_uri": "https://localhost:8080/",
          "height": 76
        },
        "id": "ha6ouyWCbhBj",
        "outputId": "86c4880a-3a15-4a9a-ee75-59194a234f33"
      },
      "execution_count": 24,
      "outputs": [
        {
          "output_type": "execute_result",
          "data": {
            "text/plain": [
              "omega*(2*b*cos(theta1)**2/(1 - (2*pi*N*c/(d*omega) - sin(theta1))**2) + 2*l)/c"
            ],
            "text/latex": "$\\displaystyle \\frac{\\omega \\left(\\frac{2 b \\cos^{2}{\\left(\\theta_{1} \\right)}}{1 - \\left(\\frac{2 \\pi N c}{d \\omega} - \\sin{\\left(\\theta_{1} \\right)}\\right)^{2}} + 2 l\\right)}{c}$"
          },
          "metadata": {},
          "execution_count": 24
        }
      ]
    },
    {
      "cell_type": "markdown",
      "source": [
        "Pluggin in our parameters"
      ],
      "metadata": {
        "id": "JHg2Sm1fwLBQ"
      }
    },
    {
      "cell_type": "code",
      "source": [
        "t1 = 80*np.pi/180\n",
        "#t1= 80\n",
        "dd = 1/1800*1e-3\n",
        "lam = 800e-9\n",
        "gamma = t1\n",
        "w = 2*np.pi*c/lam"
      ],
      "metadata": {
        "id": "HvdxKbzYawZF"
      },
      "execution_count": 383,
      "outputs": []
    },
    {
      "cell_type": "code",
      "source": [
        "ncost2 = cost2.subs({theta1:t1, d:dd, N:1,pi:np.pi, omega:w})\n",
        "ncost2.subs(c,3e8)"
      ],
      "metadata": {
        "colab": {
          "base_uri": "https://localhost:8080/",
          "height": 37
        },
        "id": "ON0a1s1FgqS9",
        "outputId": "53a2b8f8-7799-476e-9531-c52f821ee541"
      },
      "execution_count": 384,
      "outputs": [
        {
          "output_type": "execute_result",
          "data": {
            "text/plain": [
              "0.890393181848449"
            ],
            "text/latex": "$\\displaystyle 0.890393181848449$"
          },
          "metadata": {},
          "execution_count": 384
        }
      ]
    },
    {
      "cell_type": "code",
      "source": [
        "pphi = phi.subs({omega:w, theta1:t1, d:dd, N:1,pi:np.pi})\n",
        "pphi.subs(c,3e8)"
      ],
      "metadata": {
        "colab": {
          "base_uri": "https://localhost:8080/",
          "height": 38
        },
        "id": "NZ7vNhJAb8oI",
        "outputId": "d7f9d667-71b9-426c-c93c-835b2aaa1ade"
      },
      "execution_count": 385,
      "outputs": [
        {
          "output_type": "execute_result",
          "data": {
            "text/plain": [
              "597443.286854225*b + 15707963.267949*l"
            ],
            "text/latex": "$\\displaystyle 597443.286854225 b + 15707963.267949 l$"
          },
          "metadata": {},
          "execution_count": 385
        }
      ]
    },
    {
      "cell_type": "markdown",
      "source": [
        "This is our $\\phi$ in terms of $b$ and $l$.\n",
        "\n",
        "We now take the second derivative: $\\frac{\\partial^2 \\phi}{\\partial \\omega^2}$"
      ],
      "metadata": {
        "id": "WyWH5VWrwRuu"
      }
    },
    {
      "cell_type": "code",
      "source": [
        "dphi = diff(phi,omega,2)\n",
        "simplify(dphi)"
      ],
      "metadata": {
        "colab": {
          "base_uri": "https://localhost:8080/",
          "height": 86
        },
        "id": "YdoQfLsDdWxJ",
        "outputId": "39cb4e17-a1c0-4c52-80d5-e2a88eeb013f"
      },
      "execution_count": 387,
      "outputs": [
        {
          "output_type": "execute_result",
          "data": {
            "text/plain": [
              "16*pi**2*N**2*b*c*d**2*omega*(d**2*omega**2 + 3*(2*pi*N*c - d*omega*sin(theta1))**2)*cos(theta1)**2/(d**2*omega**2 - (2*pi*N*c - d*omega*sin(theta1))**2)**3"
            ],
            "text/latex": "$\\displaystyle \\frac{16 \\pi^{2} N^{2} b c d^{2} \\omega \\left(d^{2} \\omega^{2} + 3 \\left(2 \\pi N c - d \\omega \\sin{\\left(\\theta_{1} \\right)}\\right)^{2}\\right) \\cos^{2}{\\left(\\theta_{1} \\right)}}{\\left(d^{2} \\omega^{2} - \\left(2 \\pi N c - d \\omega \\sin{\\left(\\theta_{1} \\right)}\\right)^{2}\\right)^{3}}$"
          },
          "metadata": {},
          "execution_count": 387
        }
      ]
    },
    {
      "cell_type": "markdown",
      "source": [
        "plugging in numbers"
      ],
      "metadata": {
        "id": "Eqn1q38Jwlw_"
      }
    },
    {
      "cell_type": "code",
      "source": [
        "ddphi = dphi.subs({omega:w, theta1:t1, d:dd, N:1,pi:np.pi})\n",
        "ddphi.subs(c,3e8)"
      ],
      "metadata": {
        "colab": {
          "base_uri": "https://localhost:8080/",
          "height": 38
        },
        "id": "IB1TyFmZd7LE",
        "outputId": "d6c6e1a8-0d50-425f-d5fd-2d9e8a659970"
      },
      "execution_count": 386,
      "outputs": [
        {
          "output_type": "execute_result",
          "data": {
            "text/plain": [
              "1.15145192786707e-24*b"
            ],
            "text/latex": "$\\displaystyle 1.15145192786707 \\cdot 10^{-24} b$"
          },
          "metadata": {},
          "execution_count": 386
        }
      ]
    },
    {
      "cell_type": "markdown",
      "source": [
        "We now compare to what tracey got:"
      ],
      "metadata": {
        "id": "SagsOX9Ewr94"
      }
    },
    {
      "cell_type": "code",
      "source": [
        "omega0 = Symbol('omega0', real=True) \n",
        "traecy = b/c *(1+cos(theta1))*(omega-omega0) - b*(2*pi*c/omega0)**3/(4*pi*c**2*d**2) * (omega-omega0)**2/(1-(2*pi*c/omega/d - sin(theta1))**2)\n",
        "traecy"
      ],
      "metadata": {
        "colab": {
          "base_uri": "https://localhost:8080/",
          "height": 73
        },
        "id": "uXXgkZP8edEy",
        "outputId": "f9faabec-342c-407c-9c0f-1066b996b36e"
      },
      "execution_count": 389,
      "outputs": [
        {
          "output_type": "execute_result",
          "data": {
            "text/plain": [
              "-2*pi**2*b*c*(omega - omega0)**2/(d**2*omega0**3*(1 - (2*pi*c/(d*omega) - sin(theta1))**2)) + b*(omega - omega0)*(cos(theta1) + 1)/c"
            ],
            "text/latex": "$\\displaystyle - \\frac{2 \\pi^{2} b c \\left(\\omega - \\omega_{0}\\right)^{2}}{d^{2} \\omega_{0}^{3} \\left(1 - \\left(\\frac{2 \\pi c}{d \\omega} - \\sin{\\left(\\theta_{1} \\right)}\\right)^{2}\\right)} + \\frac{b \\left(\\omega - \\omega_{0}\\right) \\left(\\cos{\\left(\\theta_{1} \\right)} + 1\\right)}{c}$"
          },
          "metadata": {},
          "execution_count": 389
        }
      ]
    },
    {
      "cell_type": "code",
      "source": [
        "dtraecy = diff(traecy,omega,2)"
      ],
      "metadata": {
        "id": "ouRhalPYfl-7"
      },
      "execution_count": 390,
      "outputs": []
    },
    {
      "cell_type": "code",
      "source": [
        "ttraecy = dtraecy.subs({omega0:w, theta1:t1, d:dd, N:1,pi:np.pi, omega:w})\n",
        "ttraecy.subs(c,3e8)"
      ],
      "metadata": {
        "colab": {
          "base_uri": "https://localhost:8080/",
          "height": 38
        },
        "id": "EO_5gRSpfNrH",
        "outputId": "58fbcf7a-b4f0-4e44-caae-33f9ad720976"
      },
      "execution_count": 391,
      "outputs": [
        {
          "output_type": "execute_result",
          "data": {
            "text/plain": [
              "-3.70023189129846e-24*b"
            ],
            "text/latex": "$\\displaystyle - 3.70023189129846 \\cdot 10^{-24} b$"
          },
          "metadata": {},
          "execution_count": 391
        }
      ]
    },
    {
      "cell_type": "markdown",
      "source": [
        "Which is pretty close!\n",
        "\n",
        "However, I beleive there is this extra perpendicular paramter that I don't want to waste anymore time on"
      ],
      "metadata": {
        "id": "iK4yv_81wvOK"
      }
    },
    {
      "cell_type": "code",
      "source": [
        "G = b/sec(-theta2)\n",
        "R = -2*pi*G/d*tan(-theta2)\n",
        "R"
      ],
      "metadata": {
        "colab": {
          "base_uri": "https://localhost:8080/",
          "height": 57
        },
        "id": "l59JQ8vWiVC6",
        "outputId": "4f78ba10-72f2-4fce-e95c-20e0b7cfbafb"
      },
      "execution_count": 65,
      "outputs": [
        {
          "output_type": "execute_result",
          "data": {
            "text/plain": [
              "2*pi*b*tan(theta2)/(d*sec(theta2))"
            ],
            "text/latex": "$\\displaystyle \\frac{2 \\pi b \\tan{\\left(\\theta_{2} \\right)}}{d \\sec{\\left(\\theta_{2} \\right)}}$"
          },
          "metadata": {},
          "execution_count": 65
        }
      ]
    },
    {
      "cell_type": "code",
      "source": [
        "RR = R.subs(theta2, acos(cost2))\n",
        "RR"
      ],
      "metadata": {
        "colab": {
          "base_uri": "https://localhost:8080/",
          "height": 66
        },
        "id": "GPREpoL3jWAP",
        "outputId": "fb06c29d-8caa-4b89-c39c-c5aff75853a7"
      },
      "execution_count": 67,
      "outputs": [
        {
          "output_type": "execute_result",
          "data": {
            "text/plain": [
              "2*pi*b*sqrt((2*pi*N*c/(d*omega) - sin(theta1))**2)/d"
            ],
            "text/latex": "$\\displaystyle \\frac{2 \\pi b \\sqrt{\\left(\\frac{2 \\pi N c}{d \\omega} - \\sin{\\left(\\theta_{1} \\right)}\\right)^{2}}}{d}$"
          },
          "metadata": {},
          "execution_count": 67
        }
      ]
    },
    {
      "cell_type": "code",
      "source": [
        "dR = diff(RR,omega,2)\n",
        "RRR = dR.subs({omega0:w, theta1:t1, d:dd, N:1,pi:np.pi, omega:w})\n",
        "RRR.subs(c,3e8)"
      ],
      "metadata": {
        "colab": {
          "base_uri": "https://localhost:8080/",
          "height": 38
        },
        "id": "-8Yx87p4jipx",
        "outputId": "42c47ce9-d013-491d-c61c-2bd696ba3fa8"
      },
      "execution_count": 74,
      "outputs": [
        {
          "output_type": "execute_result",
          "data": {
            "text/plain": [
              "5.86708782213963e-24*b"
            ],
            "text/latex": "$\\displaystyle 5.86708782213963 \\cdot 10^{-24} b$"
          },
          "metadata": {},
          "execution_count": 74
        }
      ]
    },
    {
      "cell_type": "code",
      "source": [
        "diff()"
      ],
      "metadata": {
        "colab": {
          "base_uri": "https://localhost:8080/",
          "height": 37
        },
        "id": "0lMaCC4Bj6H8",
        "outputId": "bd50df6a-2fb1-4e9d-823d-e2c31af86e13"
      },
      "execution_count": 72,
      "outputs": [
        {
          "output_type": "execute_result",
          "data": {
            "text/plain": [
              "0"
            ],
            "text/latex": "$\\displaystyle 0$"
          },
          "metadata": {},
          "execution_count": 72
        }
      ]
    },
    {
      "cell_type": "markdown",
      "source": [
        "\n",
        "\n",
        "---\n",
        "\n"
      ],
      "metadata": {
        "id": "3H3sc3RUad4D"
      }
    },
    {
      "cell_type": "markdown",
      "source": [
        "##1c"
      ],
      "metadata": {
        "id": "470K0CU5l5zB"
      }
    },
    {
      "cell_type": "markdown",
      "source": [
        "Now the total round trip matrix in tangental is just: \n",
        "\n",
        "$M_{total} = M_{grating}\\cdot M_{\\delta}\\cdot M_{f} \\cdot M_{2f}\\cdot M_{f} \\cdot M_{\\delta}\\cdot M_{grating} \\cdot M_l \\cdot M_{mirror} \\cdot M_l \\cdot M_{grating} \\cdot M_{\\delta} \\cdot M_{f} \\cdot M_{2f}\\cdot  M_{f} \\cdot M_{\\delta} \\cdot M_{grating}$"
      ],
      "metadata": {
        "id": "8jWxLoE5xBjt"
      }
    },
    {
      "cell_type": "code",
      "source": [
        "delta = Symbol('delta', real=True)\n",
        "f = Symbol('f', real=True)\n",
        "\n",
        "Grat1 = Matrix([[cos(theta2)/cos(theta1),0],[0,cos(theta1)/cos(theta2)]])\n",
        "Grat2 = Matrix([[cos(theta1)/cos(theta2),0],[0,cos(theta2)/cos(theta1)]])\n",
        "L = Matrix([[1,l],[0,1]])\n",
        "mir = Matrix([[1,0],[0,1]])\n",
        "Delt = Matrix([[1,delta],[0,1]])\n",
        "F = Matrix([ [1,0], [-1/f,1] ])\n",
        "F2 = Matrix([[1,2*f],[0,1]])\n",
        "SagGrat = Matrix([ [1,0], [0,1] ])"
      ],
      "metadata": {
        "id": "fEAE8venmIP-"
      },
      "execution_count": 93,
      "outputs": []
    },
    {
      "cell_type": "markdown",
      "source": [
        "Our total tangental Matrix is then"
      ],
      "metadata": {
        "id": "7l840pz-x4lA"
      }
    },
    {
      "cell_type": "code",
      "source": [
        "Mtan = Grat2*Delt*F*F2*F*Delt*Grat1*L*mir*L*Grat2*Delt*F*F2*F*Delt*Grat1\n",
        "simplify(Mtan)"
      ],
      "metadata": {
        "colab": {
          "base_uri": "https://localhost:8080/",
          "height": 68
        },
        "id": "qpNTJzfTmq3q",
        "outputId": "2d7ed714-3d56-4548-b2a6-d6227efdd086"
      },
      "execution_count": 94,
      "outputs": [
        {
          "output_type": "execute_result",
          "data": {
            "text/plain": [
              "Matrix([\n",
              "[1, 2*(2*delta*cos(theta1)**2 - 2*f*cos(theta1)**2 + l*cos(theta2)**2)/cos(theta2)**2],\n",
              "[0,                                                                                 1]])"
            ],
            "text/latex": "$\\displaystyle \\left[\\begin{matrix}1 & \\frac{2 \\left(2 \\delta \\cos^{2}{\\left(\\theta_{1} \\right)} - 2 f \\cos^{2}{\\left(\\theta_{1} \\right)} + l \\cos^{2}{\\left(\\theta_{2} \\right)}\\right)}{\\cos^{2}{\\left(\\theta_{2} \\right)}}\\\\0 & 1\\end{matrix}\\right]$"
          },
          "metadata": {},
          "execution_count": 94
        }
      ]
    },
    {
      "cell_type": "markdown",
      "source": [
        "And our sagittal"
      ],
      "metadata": {
        "id": "IrbHYg13x6iz"
      }
    },
    {
      "cell_type": "code",
      "source": [
        "Msag = SagGrat*Delt*F*F2*F*Delt*SagGrat*L*mir*L*SagGrat*Delt*F*F2*F*Delt*SagGrat\n",
        "simplify(Msag)"
      ],
      "metadata": {
        "colab": {
          "base_uri": "https://localhost:8080/",
          "height": 57
        },
        "id": "-7KwwJfrnIgH",
        "outputId": "81f687b8-ec29-4ad9-f86d-6ce0692a9f0c"
      },
      "execution_count": 95,
      "outputs": [
        {
          "output_type": "execute_result",
          "data": {
            "text/plain": [
              "Matrix([\n",
              "[1, 4*delta - 4*f + 2*l],\n",
              "[0,                   1]])"
            ],
            "text/latex": "$\\displaystyle \\left[\\begin{matrix}1 & 4 \\delta - 4 f + 2 l\\\\0 & 1\\end{matrix}\\right]$"
          },
          "metadata": {},
          "execution_count": 95
        }
      ]
    },
    {
      "cell_type": "markdown",
      "source": [
        "Again, we find $\\phi = k\\cdot B$ where $k = \\omega/c$  and $B$ is our matrix element"
      ],
      "metadata": {
        "id": "_GoU39B4x9D_"
      }
    },
    {
      "cell_type": "code",
      "source": [
        "phid = simplify(Mtan[1])\n",
        "phid"
      ],
      "metadata": {
        "colab": {
          "base_uri": "https://localhost:8080/",
          "height": 60
        },
        "id": "BtxLA_OPn61h",
        "outputId": "828b13ae-dc10-42ff-9c42-4783c7d0973a"
      },
      "execution_count": 392,
      "outputs": [
        {
          "output_type": "execute_result",
          "data": {
            "text/plain": [
              "2*(2*delta*cos(theta1)**2 - 2*f*cos(theta1)**2 + l*cos(theta2)**2)/cos(theta2)**2"
            ],
            "text/latex": "$\\displaystyle \\frac{2 \\left(2 \\delta \\cos^{2}{\\left(\\theta_{1} \\right)} - 2 f \\cos^{2}{\\left(\\theta_{1} \\right)} + l \\cos^{2}{\\left(\\theta_{2} \\right)}\\right)}{\\cos^{2}{\\left(\\theta_{2} \\right)}}$"
          },
          "metadata": {},
          "execution_count": 392
        }
      ]
    },
    {
      "cell_type": "code",
      "source": [
        "a = Symbol('a', real=True)\n",
        "phidd = phid.subs({cos(theta2):cost2})\n",
        "phiddd = phidd.subs({ delta:(f-a)})\n",
        "simplify(phiddd)"
      ],
      "metadata": {
        "colab": {
          "base_uri": "https://localhost:8080/",
          "height": 73
        },
        "id": "M8x-URHCqmQv",
        "outputId": "1ce37675-695b-4bad-badc-84ea6179c0bd"
      },
      "execution_count": 103,
      "outputs": [
        {
          "output_type": "execute_result",
          "data": {
            "text/plain": [
              "2*(2*a*d**2*omega**2*cos(theta1)**2 + l*(-d**2*omega**2 + (2*pi*N*c - d*omega*sin(theta1))**2))/(-d**2*omega**2 + (2*pi*N*c - d*omega*sin(theta1))**2)"
            ],
            "text/latex": "$\\displaystyle \\frac{2 \\left(2 a d^{2} \\omega^{2} \\cos^{2}{\\left(\\theta_{1} \\right)} + l \\left(- d^{2} \\omega^{2} + \\left(2 \\pi N c - d \\omega \\sin{\\left(\\theta_{1} \\right)}\\right)^{2}\\right)\\right)}{- d^{2} \\omega^{2} + \\left(2 \\pi N c - d \\omega \\sin{\\left(\\theta_{1} \\right)}\\right)^{2}}$"
          },
          "metadata": {},
          "execution_count": 103
        }
      ]
    },
    {
      "cell_type": "markdown",
      "source": [
        "That is our $\\phi(\\omega)$\n",
        "\n",
        "We now find $\\phi''$"
      ],
      "metadata": {
        "id": "t6E6Jz2LyN6D"
      }
    },
    {
      "cell_type": "code",
      "source": [
        "dphid = diff(phidd,omega,2)\n",
        "dphid"
      ],
      "metadata": {
        "colab": {
          "base_uri": "https://localhost:8080/",
          "height": 136
        },
        "id": "Czk5h4JAqfzn",
        "outputId": "0b8be9aa-4304-43ae-fbb3-3cdba51c8c11"
      },
      "execution_count": 393,
      "outputs": [
        {
          "output_type": "execute_result",
          "data": {
            "text/plain": [
              "16*pi*N*c*(-4*pi*N*c*l*(2*pi*N*c/(d*omega) - sin(theta1))**2/(d*omega*((2*pi*N*c/(d*omega) - sin(theta1))**2 - 1)) + l*(3*pi*N*c/(d*omega) - sin(theta1)) + (-2*delta*cos(theta1)**2 + 2*f*cos(theta1)**2 + l*((2*pi*N*c/(d*omega) - sin(theta1))**2 - 1))*(4*pi*N*c*(2*pi*N*c/(d*omega) - sin(theta1))**2/(d*omega*((2*pi*N*c/(d*omega) - sin(theta1))**2 - 1)) - 3*pi*N*c/(d*omega) + sin(theta1))/((2*pi*N*c/(d*omega) - sin(theta1))**2 - 1))/(d*omega**3*((2*pi*N*c/(d*omega) - sin(theta1))**2 - 1))"
            ],
            "text/latex": "$\\displaystyle \\frac{16 \\pi N c \\left(- \\frac{4 \\pi N c l \\left(\\frac{2 \\pi N c}{d \\omega} - \\sin{\\left(\\theta_{1} \\right)}\\right)^{2}}{d \\omega \\left(\\left(\\frac{2 \\pi N c}{d \\omega} - \\sin{\\left(\\theta_{1} \\right)}\\right)^{2} - 1\\right)} + l \\left(\\frac{3 \\pi N c}{d \\omega} - \\sin{\\left(\\theta_{1} \\right)}\\right) + \\frac{\\left(- 2 \\delta \\cos^{2}{\\left(\\theta_{1} \\right)} + 2 f \\cos^{2}{\\left(\\theta_{1} \\right)} + l \\left(\\left(\\frac{2 \\pi N c}{d \\omega} - \\sin{\\left(\\theta_{1} \\right)}\\right)^{2} - 1\\right)\\right) \\left(\\frac{4 \\pi N c \\left(\\frac{2 \\pi N c}{d \\omega} - \\sin{\\left(\\theta_{1} \\right)}\\right)^{2}}{d \\omega \\left(\\left(\\frac{2 \\pi N c}{d \\omega} - \\sin{\\left(\\theta_{1} \\right)}\\right)^{2} - 1\\right)} - \\frac{3 \\pi N c}{d \\omega} + \\sin{\\left(\\theta_{1} \\right)}\\right)}{\\left(\\frac{2 \\pi N c}{d \\omega} - \\sin{\\left(\\theta_{1} \\right)}\\right)^{2} - 1}\\right)}{d \\omega^{3} \\left(\\left(\\frac{2 \\pi N c}{d \\omega} - \\sin{\\left(\\theta_{1} \\right)}\\right)^{2} - 1\\right)}$"
          },
          "metadata": {},
          "execution_count": 393
        }
      ]
    },
    {
      "cell_type": "markdown",
      "source": [
        "##1e\n",
        "\n",
        "The condition that they both cancel out is simply that the $\\phi''$ from each subtract and give zero. We then can find the condition for $\\delta$"
      ],
      "metadata": {
        "id": "4p68pI1hyRIH"
      }
    },
    {
      "cell_type": "code",
      "source": [
        "cond = simplify(dphid - dphi)"
      ],
      "metadata": {
        "id": "0M4E06yPr6yL"
      },
      "execution_count": 107,
      "outputs": []
    },
    {
      "cell_type": "code",
      "source": [
        "cond"
      ],
      "metadata": {
        "colab": {
          "base_uri": "https://localhost:8080/",
          "height": 82
        },
        "id": "D09YQsA6s0LT",
        "outputId": "43a537ef-eb68-4abb-8f89-9906e629c5bf"
      },
      "execution_count": 108,
      "outputs": [
        {
          "output_type": "execute_result",
          "data": {
            "text/plain": [
              "16*pi*N*c*d**2*(12*pi**3*N**3*b*c**2*omega - 8*pi**3*N**3*c**3*delta + 8*pi**3*N**3*c**3*f - 12*pi**2*N**2*b*c*d*omega**2*sin(theta1) - 3*pi*N*b*d**2*omega**3*cos(theta1)**2 + 4*pi*N*b*d**2*omega**3 - 6*pi*N*c*d**2*delta*omega**2*cos(theta1)**2 + 6*pi*N*c*d**2*f*omega**2*cos(theta1)**2 - 2*d**3*delta*omega**3*sin(theta1)**3 + 2*d**3*delta*omega**3*sin(theta1) + 2*d**3*f*omega**3*sin(theta1)**3 - 2*d**3*f*omega**3*sin(theta1))*cos(theta1)**2/((2*pi*N*c - d*omega*sin(theta1) - d*omega)**3*(2*pi*N*c - d*omega*sin(theta1) + d*omega)**3)"
            ],
            "text/latex": "$\\displaystyle \\frac{16 \\pi N c d^{2} \\left(12 \\pi^{3} N^{3} b c^{2} \\omega - 8 \\pi^{3} N^{3} c^{3} \\delta + 8 \\pi^{3} N^{3} c^{3} f - 12 \\pi^{2} N^{2} b c d \\omega^{2} \\sin{\\left(\\theta_{1} \\right)} - 3 \\pi N b d^{2} \\omega^{3} \\cos^{2}{\\left(\\theta_{1} \\right)} + 4 \\pi N b d^{2} \\omega^{3} - 6 \\pi N c d^{2} \\delta \\omega^{2} \\cos^{2}{\\left(\\theta_{1} \\right)} + 6 \\pi N c d^{2} f \\omega^{2} \\cos^{2}{\\left(\\theta_{1} \\right)} - 2 d^{3} \\delta \\omega^{3} \\sin^{3}{\\left(\\theta_{1} \\right)} + 2 d^{3} \\delta \\omega^{3} \\sin{\\left(\\theta_{1} \\right)} + 2 d^{3} f \\omega^{3} \\sin^{3}{\\left(\\theta_{1} \\right)} - 2 d^{3} f \\omega^{3} \\sin{\\left(\\theta_{1} \\right)}\\right) \\cos^{2}{\\left(\\theta_{1} \\right)}}{\\left(2 \\pi N c - d \\omega \\sin{\\left(\\theta_{1} \\right)} - d \\omega\\right)^{3} \\left(2 \\pi N c - d \\omega \\sin{\\left(\\theta_{1} \\right)} + d \\omega\\right)^{3}}$"
          },
          "metadata": {},
          "execution_count": 108
        }
      ]
    },
    {
      "cell_type": "markdown",
      "source": [
        "We then solve for $\\delta$ tp give:"
      ],
      "metadata": {
        "id": "Fsr7TUwDy1iO"
      }
    },
    {
      "cell_type": "code",
      "source": [
        "sol  = solve(cond,delta)"
      ],
      "metadata": {
        "id": "WNjN5OJxtIon"
      },
      "execution_count": 110,
      "outputs": []
    },
    {
      "cell_type": "code",
      "source": [
        "simplify(sol[0])"
      ],
      "metadata": {
        "colab": {
          "base_uri": "https://localhost:8080/",
          "height": 65
        },
        "id": "_P6TinjttNWA",
        "outputId": "9200987f-77c1-4ff0-a8bd-77538054bdc6"
      },
      "execution_count": 112,
      "outputs": [
        {
          "output_type": "execute_result",
          "data": {
            "text/plain": [
              "(6*pi**3*N**3*b*c**2*omega + 4*pi**3*N**3*c**3*f - 6*pi**2*N**2*b*c*d*omega**2*sin(theta1) - 3*pi*N*b*d**2*omega**3*cos(theta1)**2/2 + 2*pi*N*b*d**2*omega**3 + 3*pi*N*c*d**2*f*omega**2*cos(theta1)**2 + d**3*f*omega**3*sin(theta1)**3 - d**3*f*omega**3*sin(theta1))/(4*pi**3*N**3*c**3 + 3*pi*N*c*d**2*omega**2*cos(theta1)**2 + d**3*omega**3*sin(theta1)**3 - d**3*omega**3*sin(theta1))"
            ],
            "text/latex": "$\\displaystyle \\frac{6 \\pi^{3} N^{3} b c^{2} \\omega + 4 \\pi^{3} N^{3} c^{3} f - 6 \\pi^{2} N^{2} b c d \\omega^{2} \\sin{\\left(\\theta_{1} \\right)} - \\frac{3 \\pi N b d^{2} \\omega^{3} \\cos^{2}{\\left(\\theta_{1} \\right)}}{2} + 2 \\pi N b d^{2} \\omega^{3} + 3 \\pi N c d^{2} f \\omega^{2} \\cos^{2}{\\left(\\theta_{1} \\right)} + d^{3} f \\omega^{3} \\sin^{3}{\\left(\\theta_{1} \\right)} - d^{3} f \\omega^{3} \\sin{\\left(\\theta_{1} \\right)}}{4 \\pi^{3} N^{3} c^{3} + 3 \\pi N c d^{2} \\omega^{2} \\cos^{2}{\\left(\\theta_{1} \\right)} + d^{3} \\omega^{3} \\sin^{3}{\\left(\\theta_{1} \\right)} - d^{3} \\omega^{3} \\sin{\\left(\\theta_{1} \\right)}}$"
          },
          "metadata": {},
          "execution_count": 112
        }
      ]
    },
    {
      "cell_type": "markdown",
      "source": [
        "\n",
        "\n",
        "Next, distortion is minimized when the sagittal and tangent matrices give the same change. Thus the total tangent matrix must be equal to the total sagittal matrix:\n",
        "\n"
      ],
      "metadata": {
        "id": "Gg6uzpmktvfN"
      }
    },
    {
      "cell_type": "code",
      "source": [
        "Metan = simplify(Mtotal*Mtan)\n",
        "Metan"
      ],
      "metadata": {
        "colab": {
          "base_uri": "https://localhost:8080/",
          "height": 68
        },
        "id": "pIHAhsvftWxf",
        "outputId": "9750e08e-8603-4571-f8a7-4ec53e07e2b3"
      },
      "execution_count": 117,
      "outputs": [
        {
          "output_type": "execute_result",
          "data": {
            "text/plain": [
              "Matrix([\n",
              "[1, 2*(b*cos(theta1)**2 + 2*delta*cos(theta1)**2 - 2*f*cos(theta1)**2 + 2*l*cos(theta2)**2)/cos(theta2)**2],\n",
              "[0,                                                                                                      1]])"
            ],
            "text/latex": "$\\displaystyle \\left[\\begin{matrix}1 & \\frac{2 \\left(b \\cos^{2}{\\left(\\theta_{1} \\right)} + 2 \\delta \\cos^{2}{\\left(\\theta_{1} \\right)} - 2 f \\cos^{2}{\\left(\\theta_{1} \\right)} + 2 l \\cos^{2}{\\left(\\theta_{2} \\right)}\\right)}{\\cos^{2}{\\left(\\theta_{2} \\right)}}\\\\0 & 1\\end{matrix}\\right]$"
          },
          "metadata": {},
          "execution_count": 117
        }
      ]
    },
    {
      "cell_type": "code",
      "source": [
        "Mesag = simplify(Mtotalsag*Msag)\n",
        "Mesag"
      ],
      "metadata": {
        "colab": {
          "base_uri": "https://localhost:8080/",
          "height": 57
        },
        "id": "fi4evHkouUWb",
        "outputId": "4665a709-cedc-4251-b86b-dbe5817bbdaa"
      },
      "execution_count": 118,
      "outputs": [
        {
          "output_type": "execute_result",
          "data": {
            "text/plain": [
              "Matrix([\n",
              "[1, 2*b + 4*delta - 4*f + 4*l],\n",
              "[0,                         1]])"
            ],
            "text/latex": "$\\displaystyle \\left[\\begin{matrix}1 & 2 b + 4 \\delta - 4 f + 4 l\\\\0 & 1\\end{matrix}\\right]$"
          },
          "metadata": {},
          "execution_count": 118
        }
      ]
    },
    {
      "cell_type": "code",
      "source": [
        "spatialcond = Metan[1]-Mesag[1]\n",
        "spatialcond"
      ],
      "metadata": {
        "colab": {
          "base_uri": "https://localhost:8080/",
          "height": 60
        },
        "id": "T8_J7XglufNX",
        "outputId": "823ab7e6-88d1-49da-e740-82f14f966ad8"
      },
      "execution_count": 120,
      "outputs": [
        {
          "output_type": "execute_result",
          "data": {
            "text/plain": [
              "-2*b - 4*delta + 4*f - 4*l + 2*(b*cos(theta1)**2 + 2*delta*cos(theta1)**2 - 2*f*cos(theta1)**2 + 2*l*cos(theta2)**2)/cos(theta2)**2"
            ],
            "text/latex": "$\\displaystyle - 2 b - 4 \\delta + 4 f - 4 l + \\frac{2 \\left(b \\cos^{2}{\\left(\\theta_{1} \\right)} + 2 \\delta \\cos^{2}{\\left(\\theta_{1} \\right)} - 2 f \\cos^{2}{\\left(\\theta_{1} \\right)} + 2 l \\cos^{2}{\\left(\\theta_{2} \\right)}\\right)}{\\cos^{2}{\\left(\\theta_{2} \\right)}}$"
          },
          "metadata": {},
          "execution_count": 120
        }
      ]
    },
    {
      "cell_type": "markdown",
      "source": [
        "We can solve for $\\delta$"
      ],
      "metadata": {
        "id": "2EnZBIr2zMup"
      }
    },
    {
      "cell_type": "code",
      "source": [
        "scond = solve(spatialcond,delta)\n",
        "scond[0]"
      ],
      "metadata": {
        "colab": {
          "base_uri": "https://localhost:8080/",
          "height": 52
        },
        "id": "318n7gGsu5vt",
        "outputId": "f7596b8d-7653-43bd-e155-82803c17d658"
      },
      "execution_count": 123,
      "outputs": [
        {
          "output_type": "execute_result",
          "data": {
            "text/plain": [
              "-b/2 + f"
            ],
            "text/latex": "$\\displaystyle - \\frac{b}{2} + f$"
          },
          "metadata": {},
          "execution_count": 123
        }
      ]
    },
    {
      "cell_type": "code",
      "source": [
        ""
      ],
      "metadata": {
        "id": "ZbNi82c1u963"
      },
      "execution_count": null,
      "outputs": []
    },
    {
      "cell_type": "markdown",
      "source": [
        "\n",
        "\n",
        "---\n",
        "\n",
        "\n",
        "\n",
        "---\n",
        "\n"
      ],
      "metadata": {
        "id": "Fobr8LtwyXH2"
      }
    },
    {
      "cell_type": "markdown",
      "source": [
        "##2"
      ],
      "metadata": {
        "id": "Humr5yG5ys4O"
      }
    },
    {
      "cell_type": "markdown",
      "source": [
        "Pulse width: $\\tau_p$"
      ],
      "metadata": {
        "id": "jUrpCqOOyu0j"
      }
    },
    {
      "cell_type": "code",
      "source": [
        "tau = Symbol('tau', real=True)\n",
        "df = Symbol('\\Delta f', real=True)"
      ],
      "metadata": {
        "id": "uR-eKLW-0zUc"
      },
      "execution_count": 274,
      "outputs": []
    },
    {
      "cell_type": "code",
      "source": [
        "taup = 300e-12"
      ],
      "metadata": {
        "id": "V96nu9YiyX8U"
      },
      "execution_count": 403,
      "outputs": []
    },
    {
      "cell_type": "markdown",
      "source": [
        "$a$ parameter:\n",
        "\n",
        "From equation 9.4:\n",
        "\n",
        "$\\tau_p = \\sqrt{2\\: ln2 /a}$\n",
        "\n",
        "Solve for $a$\n"
      ],
      "metadata": {
        "id": "I3FkXlByy7Cb"
      }
    },
    {
      "cell_type": "code",
      "source": [
        "a = 2*np.log(2)/taup**2\n",
        "a"
      ],
      "metadata": {
        "colab": {
          "base_uri": "https://localhost:8080/"
        },
        "id": "ZW0P6Cbxyrlo",
        "outputId": "946495da-b54a-4635-b72c-eba232294056"
      },
      "execution_count": 404,
      "outputs": [
        {
          "output_type": "execute_result",
          "data": {
            "text/plain": [
              "1.5403270679109894e+19"
            ]
          },
          "metadata": {},
          "execution_count": 404
        }
      ]
    },
    {
      "cell_type": "markdown",
      "source": [
        "We can calculate bandwidth from eq 9.13\n",
        "\n",
        "$\\Delta f_p \\tau_p = 0.44 \\times \\sqrt{1+ (b/a)^2}$\n",
        "\n",
        "For transform limited :\n",
        "\n",
        "$\\Delta f_p \\:\\tau_p = 0.44 $\n",
        "\n",
        "$→ \\Delta f_p = 0.44 /\\tau_p $"
      ],
      "metadata": {
        "id": "lLxqhUYLzwx9"
      }
    },
    {
      "cell_type": "code",
      "source": [
        "tlimited = 3e-12"
      ],
      "metadata": {
        "id": "KOB04w3QzDy3"
      },
      "execution_count": 405,
      "outputs": []
    },
    {
      "cell_type": "code",
      "source": [
        "fband = 0.44/tlimited\n",
        "fband"
      ],
      "metadata": {
        "colab": {
          "base_uri": "https://localhost:8080/"
        },
        "id": "jJDCf3PZ2Enn",
        "outputId": "57f29aee-1270-4191-a274-160c3a0e6aaf"
      },
      "execution_count": 406,
      "outputs": [
        {
          "output_type": "execute_result",
          "data": {
            "text/plain": [
              "146666666666.66666"
            ]
          },
          "metadata": {},
          "execution_count": 406
        }
      ]
    },
    {
      "cell_type": "code",
      "source": [
        "fband*taup"
      ],
      "metadata": {
        "colab": {
          "base_uri": "https://localhost:8080/"
        },
        "id": "0SPHTx2F5aUb",
        "outputId": "dcbc7022-8cca-447e-aef6-288023123819"
      },
      "execution_count": 407,
      "outputs": [
        {
          "output_type": "execute_result",
          "data": {
            "text/plain": [
              "44.0"
            ]
          },
          "metadata": {},
          "execution_count": 407
        }
      ]
    },
    {
      "cell_type": "code",
      "source": [
        "b = np.sqrt((fband*taup/(2*np.log(2)/np.pi))**2-1)*a\n",
        "b"
      ],
      "metadata": {
        "colab": {
          "base_uri": "https://localhost:8080/"
        },
        "id": "hic3V2V85AYs",
        "outputId": "c71ba056-f2a3-4022-f236-635941e83d36"
      },
      "execution_count": 409,
      "outputs": [
        {
          "output_type": "execute_result",
          "data": {
            "text/plain": [
              "1.5358125009520715e+21"
            ]
          },
          "metadata": {},
          "execution_count": 409
        }
      ]
    },
    {
      "cell_type": "markdown",
      "source": [
        "Thus our chirp parameter is $b = 1.5\\times 10^{21}$"
      ],
      "metadata": {
        "id": "5Hk_o8IhzkBL"
      }
    },
    {
      "cell_type": "markdown",
      "source": [
        "\n",
        "\n",
        "---\n",
        "##2b\n",
        "\n",
        "Using Equation 9.80\n",
        "\n",
        "$a(z) = \\frac{a_0 (1+K\\: a_0) + K b_0^2}{(1+ K a_0)^2 + (Kb_0)^2}$\n",
        "\n",
        "Where \n",
        "\n",
        "$K = 8 ln(G_0) / \\Delta\\omega_a^2$\n"
      ],
      "metadata": {
        "id": "JibTz7MU-mfC"
      }
    },
    {
      "cell_type": "code",
      "source": [
        "Go = 1e7\n",
        "deltaw = 120e9 * 2 *np.pi\n",
        "\n",
        "K = 8* np.log(Go)/(deltaw**2)\n",
        "K\n"
      ],
      "metadata": {
        "colab": {
          "base_uri": "https://localhost:8080/"
        },
        "id": "MXUKiJSY40l9",
        "outputId": "5ddc29ed-5345-4b4c-91d3-363bc37632fd"
      },
      "execution_count": 282,
      "outputs": [
        {
          "output_type": "execute_result",
          "data": {
            "text/plain": [
              "2.268200735299325e-22"
            ]
          },
          "metadata": {},
          "execution_count": 282
        }
      ]
    },
    {
      "cell_type": "code",
      "source": [
        "an = (a*(1+K*a)+ K*b**2 ) / ( (1+ K*a)**2 + (K*b)**2 )\n",
        "an"
      ],
      "metadata": {
        "colab": {
          "base_uri": "https://localhost:8080/"
        },
        "id": "oCfOSHEX_Hmu",
        "outputId": "d8eb0d10-72d6-493a-c72f-d4e33f8e06af"
      },
      "execution_count": 283,
      "outputs": [
        {
          "output_type": "execute_result",
          "data": {
            "text/plain": [
              "4.878471372587807e+20"
            ]
          },
          "metadata": {},
          "execution_count": 283
        }
      ]
    },
    {
      "cell_type": "markdown",
      "source": [
        "We can then use eq 9.4 to find our new pulsewidth"
      ],
      "metadata": {
        "id": "3wNBBayglScX"
      }
    },
    {
      "cell_type": "code",
      "source": [
        "taupnew = np.sqrt(2*np.log(2)/an)\n",
        "taupnew"
      ],
      "metadata": {
        "colab": {
          "base_uri": "https://localhost:8080/"
        },
        "id": "gKnk7XAV_e4a",
        "outputId": "8ba8534a-c8db-4747-8e3a-2d4e70693bce"
      },
      "execution_count": 284,
      "outputs": [
        {
          "output_type": "execute_result",
          "data": {
            "text/plain": [
              "5.33071971088719e-11"
            ]
          },
          "metadata": {},
          "execution_count": 284
        }
      ]
    },
    {
      "cell_type": "markdown",
      "source": [
        "\n",
        "\n",
        "---\n",
        "##2c\n",
        "\n",
        "Using equation (9.75)\n",
        "\n",
        "$\\frac{1}{\\Gamma(z)} = \\frac{1}{\\Gamma_0} + 2\\alpha_m''(\\omega) z = \\frac{1}{\\Gamma_0} + K $\n",
        "\n",
        "Where \n",
        "\n",
        "$\\Gamma = a + j\\cdot b$\n",
        "\n",
        "Setting imaginary parts on each side of equation equal:\n",
        "\n",
        "$\\frac{b_{new}}{b_{new}^2+ a_{new}^2} = \\frac{b_{old}}{b_{old}^2+ a_{old}^2}$"
      ],
      "metadata": {
        "id": "Vo0_OsH8AVUr"
      }
    },
    {
      "cell_type": "code",
      "source": [
        "aold = Symbol('aold', real=True)\n",
        "bold = Symbol('bold', real=True)\n",
        "anew = Symbol('anew', real=True)\n",
        "bnew = Symbol('bnew', real=True)\n"
      ],
      "metadata": {
        "id": "_jowBzTu_raQ"
      },
      "execution_count": 262,
      "outputs": []
    },
    {
      "cell_type": "code",
      "source": [
        "sol = solve(bnew/(bnew**2 + anew**2) - bold/(bold**2 + aold**2),bnew)[1]\n",
        "sol"
      ],
      "metadata": {
        "colab": {
          "base_uri": "https://localhost:8080/",
          "height": 56
        },
        "id": "pGdmLTzgAcC6",
        "outputId": "7c1b6a20-3d2d-4f20-c407-6aaa8a8e4459"
      },
      "execution_count": 265,
      "outputs": [
        {
          "output_type": "execute_result",
          "data": {
            "text/plain": [
              "(aold**2 + bold**2 + sqrt((-2*anew*bold + aold**2 + bold**2)*(2*anew*bold + aold**2 + bold**2)))/(2*bold)"
            ],
            "text/latex": "$\\displaystyle \\frac{aold^{2} + bold^{2} + \\sqrt{\\left(- 2 anew bold + aold^{2} + bold^{2}\\right) \\left(2 anew bold + aold^{2} + bold^{2}\\right)}}{2 bold}$"
          },
          "metadata": {},
          "execution_count": 265
        }
      ]
    },
    {
      "cell_type": "code",
      "source": [
        "bn = sol.subs({aold:a, bold:b, anew:an})\n",
        "bn"
      ],
      "metadata": {
        "colab": {
          "base_uri": "https://localhost:8080/",
          "height": 37
        },
        "id": "DOv_g6qZAfS4",
        "outputId": "04281d48-e85b-4b30-c37a-cbca24e29227"
      },
      "execution_count": 269,
      "outputs": [
        {
          "output_type": "execute_result",
          "data": {
            "text/plain": [
              "1.36111401555921e+21"
            ],
            "text/latex": "$\\displaystyle 1.36111401555921 \\cdot 10^{21}$"
          },
          "metadata": {},
          "execution_count": 269
        }
      ]
    },
    {
      "cell_type": "code",
      "source": [
        "bn = N(bn,5)\n",
        "bn"
      ],
      "metadata": {
        "colab": {
          "base_uri": "https://localhost:8080/",
          "height": 37
        },
        "id": "-Sm7d2RFc6pa",
        "outputId": "23b4e042-d197-4ec2-eefe-5f69e40c2cf8"
      },
      "execution_count": 286,
      "outputs": [
        {
          "output_type": "execute_result",
          "data": {
            "text/plain": [
              "1.3611e+21"
            ],
            "text/latex": "$\\displaystyle 1.3611 \\cdot 10^{21}$"
          },
          "metadata": {},
          "execution_count": 286
        }
      ]
    },
    {
      "cell_type": "code",
      "source": [
        "float(bn)"
      ],
      "metadata": {
        "colab": {
          "base_uri": "https://localhost:8080/"
        },
        "id": "F1B4wPMOeK5H",
        "outputId": "335ff4f7-1e7f-4520-9593-4db0f5f37e61"
      },
      "execution_count": 291,
      "outputs": [
        {
          "output_type": "execute_result",
          "data": {
            "text/plain": [
              "1.3611139081809303e+21"
            ]
          },
          "metadata": {},
          "execution_count": 291
        }
      ]
    },
    {
      "cell_type": "markdown",
      "source": [
        "Thus our new chirp paramter is $ b = 1.361 \\times 10^{21}$"
      ],
      "metadata": {
        "id": "R02-1sudltm4"
      }
    },
    {
      "cell_type": "markdown",
      "source": [
        "##2d\n",
        "\n",
        "We can calculate bandwidth from eq 9.13\n",
        "\n",
        "$\\Delta f_p \\tau_p = 0.44 \\times \\sqrt{1+ (b/a)^2}$\n",
        "\n",
        "$→ \\Delta f_p = 0.44\\times \\sqrt{1+ (b/a)^2} /\\tau_p $"
      ],
      "metadata": {
        "id": "TScj-_vQdZAF"
      }
    },
    {
      "cell_type": "code",
      "source": [
        "dfnew = 0.44*np.sqrt(1+float(bn/an)**2)/taupnew"
      ],
      "metadata": {
        "id": "eNxWaU0jd9Iy"
      },
      "execution_count": 293,
      "outputs": []
    },
    {
      "cell_type": "code",
      "source": [
        "(bn/an).evalf()"
      ],
      "metadata": {
        "colab": {
          "base_uri": "https://localhost:8080/",
          "height": 37
        },
        "id": "Ef6iEQoZes0k",
        "outputId": "d66cf683-236b-49eb-83b4-32cf77828e41"
      },
      "execution_count": 289,
      "outputs": [
        {
          "output_type": "execute_result",
          "data": {
            "text/plain": [
              "2.79004180659755"
            ],
            "text/latex": "$\\displaystyle 2.79004180659755$"
          },
          "metadata": {},
          "execution_count": 289
        }
      ]
    },
    {
      "cell_type": "markdown",
      "source": [
        "Then to find the minimum pulse width we need to find the transform-limited pulse so that: \n",
        "\n",
        "$\\Delta f_p \\tau_{limited} = 0.44$"
      ],
      "metadata": {
        "id": "cW3ytn9ufJrM"
      }
    },
    {
      "cell_type": "code",
      "source": [
        "taulimnew = 0.44 / dfnew\n",
        "taulimnew"
      ],
      "metadata": {
        "colab": {
          "base_uri": "https://localhost:8080/"
        },
        "id": "mlcre8FXfVxF",
        "outputId": "a34724c1-2732-42c3-8307-50d257b8cafc"
      },
      "execution_count": 295,
      "outputs": [
        {
          "output_type": "execute_result",
          "data": {
            "text/plain": [
              "1.798586981282635e-11"
            ]
          },
          "metadata": {},
          "execution_count": 295
        }
      ]
    },
    {
      "cell_type": "markdown",
      "source": [
        "So around 18 ps!\n"
      ],
      "metadata": {
        "id": "RgkuWgghfexl"
      }
    },
    {
      "cell_type": "markdown",
      "source": [
        "\n",
        "\n",
        "---\n",
        "#3a\n",
        "We want to convert a transform-limited gaussian with 100fs pulsewidth at 800 nm to a 1 ns pulsewidth using double pass negative GVD grating pair. Assuming no initial chirp $b=0$\n",
        "\n",
        "Using groove density of $d = \\frac{1}{1800} mm = \\frac{1}{1800\\cdot 1000} m^{-3}$\n",
        "\n",
        "We want to find minimum grating spacing\n",
        "\n"
      ],
      "metadata": {
        "id": "6OfL-rpMd6ga"
      }
    },
    {
      "cell_type": "code",
      "source": [
        "d = 1/1800/1000 #groove density\n",
        "tp0 = 100e-15  #original pulsewidth\n",
        "lam = 800e-9 #wavelength\n",
        "tp1 = 1e-9 #stretched pulsewidth"
      ],
      "metadata": {
        "id": "3qCnDbbOeroP"
      },
      "execution_count": 2,
      "outputs": []
    },
    {
      "cell_type": "markdown",
      "source": [
        "For a double pass negative GVD grating, Tracey's paper (and the notes) gives:\n",
        "\n",
        "$\\frac{d^2 \\phi}{d\\omega^2} = \\frac{- N^2 \\lambda^3 \\:b}{2\\:c^2d^2cos^2(\\theta_{out})} = \\beta''\\: L$\n",
        "\n",
        "And using equation 9.65 from the book (assuming z=L): \n",
        "\n",
        "$\\tau_p^2(z) = \\tau_{p0}^2 + \\left( \\frac{(4 \\: ln2)\\beta''\\: z}{\\tau_{p0}} \\right)^2 =  \\tau_{p0}^2 + \\frac{(4 \\: ln2)^2}{\\tau_{p0}^2} \\left( \\frac{- N^2 \\lambda^3 \\:b}{2\\:c^2d^2cos^2(\\theta_{out})} \\right)^2  $ \n",
        "\n",
        "Assuming our beam is coming out on optical axis then $cos^2(\\theta_{out}) → 1$\n",
        "\n",
        "Thus:\n",
        "\n",
        "$ N^2 = \\left( \\tau_{p0}^2 + \\tau_p^2(z) \\right)\\cdot \\frac{\\tau_{p0}^2}{(4 \\: ln2)^2} \\cdot \\left( \\frac{2\\:c^2d^2\\cdot 1}{\\lambda^3 \\:b} \\right)^2   $\n",
        "\n",
        "We don't have $b$ the slanted length between the two gratings so we'll leave it in terms of $b$"
      ],
      "metadata": {
        "id": "2yp_mF6YfVGe"
      }
    },
    {
      "cell_type": "code",
      "source": [
        "N2 = (tp0**2 + tp1**2) * tp0**2/(4*np.log(2))**2 * (2* (2.988e8)**2 * d**2 / (lam**3))**2\n",
        "N = np.sqrt(N2)\n",
        "N"
      ],
      "metadata": {
        "colab": {
          "base_uri": "https://localhost:8080/"
        },
        "id": "nebxiayqh3DP",
        "outputId": "bc5125bf-4165-4f4b-966a-77e2f31a1a62"
      },
      "execution_count": 6,
      "outputs": [
        {
          "output_type": "execute_result",
          "data": {
            "text/plain": [
              "3.8823149165537894"
            ]
          },
          "metadata": {},
          "execution_count": 6
        }
      ]
    },
    {
      "cell_type": "markdown",
      "source": [
        "Therefore our grating spacing must be: \n",
        "\n",
        "$N \\approx 3.88 \\: b^{-1}$"
      ],
      "metadata": {
        "id": "CzMV_Z8NjD_P"
      }
    },
    {
      "cell_type": "markdown",
      "source": [
        "##3b\n",
        "\n",
        "Instead we are now using a 1 ps pulse and what is the new pulsewidth?\n",
        "\n",
        "We will use equation 9.65 with our new given N"
      ],
      "metadata": {
        "id": "hKkyCzQWjlsD"
      }
    },
    {
      "cell_type": "code",
      "source": [
        "bb = Symbol('bb', real=True) #our 'b' parameter\n",
        "\n",
        "betaL = ( N**2 * lam**3 / (2 * (2.998e8)**2 * d**2 ) ) ## beta'' * L\n",
        "\n",
        "taup0 = 1e-12\n",
        "\n",
        "taup22 = taup0**2 + (4 * np.log(2)/taup0)**2 * betaL**2 * bb**2\n",
        "\n",
        "taup2 = sqrt(taup22)\n",
        "taup2"
      ],
      "metadata": {
        "colab": {
          "base_uri": "https://localhost:8080/",
          "height": 40
        },
        "id": "nC_XjUAHjtaI",
        "outputId": "e1614020-988a-4ee6-a39f-7682db9a54b5"
      },
      "execution_count": 11,
      "outputs": [
        {
          "output_type": "execute_result",
          "data": {
            "text/plain": [
              "3.85645876455435e-10*sqrt(bb**2 + 6.72392121319221e-6)"
            ],
            "text/latex": "$\\displaystyle 3.85645876455435 \\cdot 10^{-10} \\sqrt{bb^{2} + 6.72392121319221 \\cdot 10^{-6}}$"
          },
          "metadata": {},
          "execution_count": 11
        }
      ]
    },
    {
      "cell_type": "markdown",
      "source": [
        "For a $b = 1$:"
      ],
      "metadata": {
        "id": "mcfW9zLJlJLW"
      }
    },
    {
      "cell_type": "code",
      "source": [
        "taup2.subs(bb,1)"
      ],
      "metadata": {
        "colab": {
          "base_uri": "https://localhost:8080/",
          "height": 37
        },
        "id": "Yk2w2dhOlOkA",
        "outputId": "90da7116-ce9a-4c2a-9c93-176db8045d32"
      },
      "execution_count": 13,
      "outputs": [
        {
          "output_type": "execute_result",
          "data": {
            "text/plain": [
              "3.85647172979500e-10"
            ],
            "text/latex": "$\\displaystyle 3.856471729795 \\cdot 10^{-10}$"
          },
          "metadata": {},
          "execution_count": 13
        }
      ]
    },
    {
      "cell_type": "code",
      "source": [
        "taup2.subs(bb,1)/taup0"
      ],
      "metadata": {
        "colab": {
          "base_uri": "https://localhost:8080/",
          "height": 37
        },
        "id": "l2N2HMNkkqiH",
        "outputId": "122da5ef-7e84-43aa-d946-835afda0797a"
      },
      "execution_count": 14,
      "outputs": [
        {
          "output_type": "execute_result",
          "data": {
            "text/plain": [
              "385.647172979500"
            ],
            "text/latex": "$\\displaystyle 385.6471729795$"
          },
          "metadata": {},
          "execution_count": 14
        }
      ]
    },
    {
      "cell_type": "markdown",
      "source": [
        "For a 1 ps pulse, given the grating spacing found in part a, the pulse is expanded by 385.6 times!\n",
        "\n",
        "This is as opposed to part a, where the pulse expanded by 10,000 times. So no, it was not expected. "
      ],
      "metadata": {
        "id": "rPieLT5PkvP4"
      }
    },
    {
      "cell_type": "markdown",
      "source": [
        "\n",
        "\n",
        "---\n",
        "##4a"
      ],
      "metadata": {
        "id": "eaD7KIAPGgYs"
      }
    },
    {
      "cell_type": "markdown",
      "source": [
        "For Gaussian:\n",
        "\n",
        "$I \\propto exp\\left[ -4\\: ln2  \\: (\\frac{t}{\\tau_p})^2 \\right]$\n",
        "\n",
        "For a $sech^2$ pulse:\n",
        "\n",
        "$I \\propto sech^2(1.7627 \\cdot t/\\tau_p) = 1/cosh^2(1.7627 \\cdot t/\\tau_p) $\n",
        "\n",
        "For a decaying exponential:\n",
        "\n",
        "$I \\propto exp(-2t/\\tau_p)$"
      ],
      "metadata": {
        "id": "l_s9VI6UHRZI"
      }
    },
    {
      "cell_type": "code",
      "source": [
        "taup = 1e-12"
      ],
      "metadata": {
        "id": "jaWb7HHGGkjY"
      },
      "execution_count": 329,
      "outputs": []
    },
    {
      "cell_type": "code",
      "source": [
        "t = np.arange(-1e-11,1e-11,10e-15)\n",
        "I = np.exp(-4 * np.log(2) *(t/taup)**2)\n",
        "II = I**2"
      ],
      "metadata": {
        "id": "iX_Eaj-gGxvR"
      },
      "execution_count": 330,
      "outputs": []
    },
    {
      "cell_type": "code",
      "source": [
        "dt = t[1]-t[0]\n",
        "dt"
      ],
      "metadata": {
        "colab": {
          "base_uri": "https://localhost:8080/"
        },
        "id": "1rXzS4N7IAx2",
        "outputId": "f98ce381-547e-460c-8d40-0d1e4abe200d"
      },
      "execution_count": 331,
      "outputs": [
        {
          "output_type": "execute_result",
          "data": {
            "text/plain": [
              "1.000000000000016e-14"
            ]
          },
          "metadata": {},
          "execution_count": 331
        }
      ]
    },
    {
      "cell_type": "code",
      "source": [
        "2/np.sqrt(2)"
      ],
      "metadata": {
        "colab": {
          "base_uri": "https://localhost:8080/"
        },
        "id": "p7ZEk3k_rCmG",
        "outputId": "8bb135b0-2fa5-4609-f1a4-1e6fc7246869"
      },
      "execution_count": 356,
      "outputs": [
        {
          "output_type": "execute_result",
          "data": {
            "text/plain": [
              "1.414213562373095"
            ]
          },
          "metadata": {},
          "execution_count": 356
        }
      ]
    },
    {
      "cell_type": "code",
      "source": [
        "denom = np.trapz(II, dx=dt)"
      ],
      "metadata": {
        "id": "K9UzHUP_Ihor"
      },
      "execution_count": 332,
      "outputs": []
    },
    {
      "cell_type": "code",
      "source": [
        "ac = np.correlate(I,I,mode='full')"
      ],
      "metadata": {
        "id": "T7FgMl_bIvST"
      },
      "execution_count": 333,
      "outputs": []
    },
    {
      "cell_type": "code",
      "source": [
        "acorr =dt* ac/denom"
      ],
      "metadata": {
        "id": "JXLOGTLZIrHE"
      },
      "execution_count": 334,
      "outputs": []
    },
    {
      "cell_type": "markdown",
      "source": [
        "$sech^2(1.7627 \\cdot t/\\tau_p)$ "
      ],
      "metadata": {
        "id": "7SvuAma5t_Sl"
      }
    },
    {
      "cell_type": "code",
      "source": [
        "Isec = 1/np.cosh(1.7627*t/taup)**2\n",
        "IIsec = Isec**2"
      ],
      "metadata": {
        "id": "GJrsDbRDJxsj"
      },
      "execution_count": 364,
      "outputs": []
    },
    {
      "cell_type": "code",
      "source": [
        "denomsec = np.trapz(IIsec, dx=dt)\n",
        "acsec = np.correlate(Isec,Isec,mode='full')\n",
        "acorrsec = dt*acsec/denomsec"
      ],
      "metadata": {
        "id": "QteZFsmVL9cB"
      },
      "execution_count": 365,
      "outputs": []
    },
    {
      "cell_type": "markdown",
      "source": [
        "$exp(-2t/\\tau_p)$"
      ],
      "metadata": {
        "id": "Vi7mtHYruTco"
      }
    },
    {
      "cell_type": "code",
      "source": [
        "Idec = np.exp(-2*t/taup)\n",
        "IIdec = Idec**2"
      ],
      "metadata": {
        "id": "i5PhvdkAMF2r"
      },
      "execution_count": 366,
      "outputs": []
    },
    {
      "cell_type": "code",
      "source": [
        "denomdec = np.trapz(IIdec, dx=dt)\n",
        "acdec = np.correlate(Idec,Idec,mode='full')\n",
        "acorrdec = dt*acdec/denomdec"
      ],
      "metadata": {
        "id": "puBTmzt0MyBk"
      },
      "execution_count": 367,
      "outputs": []
    },
    {
      "cell_type": "markdown",
      "source": [
        "plot"
      ],
      "metadata": {
        "id": "M9HVfWaxuVxF"
      }
    },
    {
      "cell_type": "code",
      "source": [
        "ttau = np.arange(-int(acorr.size)*dt/2, int(acorr.size)*dt/2,dt)\n",
        "plt.plot(ttau/1e-12,acorr, label=\"Gaussian\")\n",
        "plt.plot(ttau/1e-12,acorrsec, label = \"Sech2\")\n",
        "plt.plot(ttau/1e-12,acorrdec,label = \"Decay\")\n",
        "plt.xlim([-3,3])\n",
        "\n",
        "plt.legend(fontsize=16)\n",
        "plt.ylabel(\"autocorrelation\",fontsize = 16)\n",
        "plt.xlabel(\"$\\\\tau$ (ps)\",fontsize=16)\n",
        "plt.title(\"$\\\\tau_p = 1$ ps\",fontsize = 16)\n",
        "plt.axhline(y=0.5, color='r', linestyle = '--', linewidth=2)\n",
        "plt.axvline(x=1/np.sqrt(2), color='r', linestyle = '--', linewidth=2)\n",
        "plt.axvline(x=-1/np.sqrt(2), color='r', linestyle = '--', linewidth=2)\n",
        "plt.xticks(np.arange(-3,3, 0.5))"
      ],
      "metadata": {
        "colab": {
          "base_uri": "https://localhost:8080/",
          "height": 534
        },
        "id": "bpKTPM0-p1b9",
        "outputId": "6ff0cfba-34ca-4d2b-8eb7-f6c2baf27a23"
      },
      "execution_count": 374,
      "outputs": [
        {
          "output_type": "execute_result",
          "data": {
            "text/plain": [
              "([<matplotlib.axis.XTick at 0x7f8edbd37dd0>,\n",
              "  <matplotlib.axis.XTick at 0x7f8edbd37ed0>,\n",
              "  <matplotlib.axis.XTick at 0x7f8edbf2a290>,\n",
              "  <matplotlib.axis.XTick at 0x7f8edbf31f50>,\n",
              "  <matplotlib.axis.XTick at 0x7f8edc038090>,\n",
              "  <matplotlib.axis.XTick at 0x7f8edc13a510>,\n",
              "  <matplotlib.axis.XTick at 0x7f8edc13a950>,\n",
              "  <matplotlib.axis.XTick at 0x7f8edc0b2810>,\n",
              "  <matplotlib.axis.XTick at 0x7f8edc08d6d0>,\n",
              "  <matplotlib.axis.XTick at 0x7f8edc0697d0>,\n",
              "  <matplotlib.axis.XTick at 0x7f8edc069a50>,\n",
              "  <matplotlib.axis.XTick at 0x7f8edc06be50>],\n",
              " <a list of 12 Text major ticklabel objects>)"
            ]
          },
          "metadata": {},
          "execution_count": 374
        },
        {
          "output_type": "display_data",
          "data": {
            "text/plain": [
              "<Figure size 432x288 with 1 Axes>"
            ],
            "image/png": "[encoded data removed]"
          },
          "metadata": {
            "needs_background": "light"
          }
        }
      ]
    },
    {
      "cell_type": "markdown",
      "source": [
        "Thus the fwhm's are:\n",
        "\n",
        "$fwhm(A^2_{gauss}) \\approx 1.41 \\: ps$\n",
        "\n",
        "$fwhm(A^2_{sech2}) \\approx 1.54 \\: ps$\n",
        "\n",
        "$fwhm(A^2_{Decay}) \\approx 1.1 \\: ps$"
      ],
      "metadata": {
        "id": "PGFxAQVHVh-r"
      }
    },
    {
      "cell_type": "markdown",
      "source": [
        "## 4b"
      ],
      "metadata": {
        "id": "OVbXMAAE1elW"
      }
    },
    {
      "cell_type": "markdown",
      "source": [
        "In the previous section we found the pulsewidth converstion factor from intensity to autocorrelation pulse width for a gaussian, sech2, and decay function as 1.52, 1.54, and 1.1 respectively. \n",
        "\n",
        "Thus for $\\tau_p = 100 fs$ we just need to multiply by the autocorrelation factor to get the autocorrelation pulsewidth. Then we multiply by the speed of light to get the total length we need to move in order to make an autocorrelation measurement. "
      ],
      "metadata": {
        "id": "-06etwFr1gK5"
      }
    },
    {
      "cell_type": "markdown",
      "source": [
        "For Gaussian:"
      ],
      "metadata": {
        "id": "6QczTTIM2Hgi"
      }
    },
    {
      "cell_type": "code",
      "source": [
        "100e-15 *1.41 * 2.988e8"
      ],
      "metadata": {
        "colab": {
          "base_uri": "https://localhost:8080/"
        },
        "id": "lcu7zq0vSLl_",
        "outputId": "c22c6748-0d6f-43d8-e263-c57d364312c5"
      },
      "execution_count": 410,
      "outputs": [
        {
          "output_type": "execute_result",
          "data": {
            "text/plain": [
              "4.21308e-05"
            ]
          },
          "metadata": {},
          "execution_count": 410
        }
      ]
    },
    {
      "cell_type": "markdown",
      "source": [
        "Thus $42 \\: \\mu m$ for gaussian"
      ],
      "metadata": {
        "id": "-Rbr7PpX2K86"
      }
    },
    {
      "cell_type": "markdown",
      "source": [
        "For Sech2:"
      ],
      "metadata": {
        "id": "nhvWBIVR2SYi"
      }
    },
    {
      "cell_type": "code",
      "source": [
        "100e-15 *1.54 * 2.988e8"
      ],
      "metadata": {
        "colab": {
          "base_uri": "https://localhost:8080/"
        },
        "id": "VRyUgy7tXtxb",
        "outputId": "9213c87f-a073-4f20-856c-98dd8e02c761"
      },
      "execution_count": 411,
      "outputs": [
        {
          "output_type": "execute_result",
          "data": {
            "text/plain": [
              "4.60152e-05"
            ]
          },
          "metadata": {},
          "execution_count": 411
        }
      ]
    },
    {
      "cell_type": "markdown",
      "source": [
        "Thus $46 \\: \\mu m$ for sech2"
      ],
      "metadata": {
        "id": "mXMxAuZh2VNE"
      }
    },
    {
      "cell_type": "markdown",
      "source": [
        "For Decay:"
      ],
      "metadata": {
        "id": "3B3dTKWP2YRW"
      }
    },
    {
      "cell_type": "code",
      "source": [
        "100e-15 *1.1* 2.988e8"
      ],
      "metadata": {
        "colab": {
          "base_uri": "https://localhost:8080/"
        },
        "id": "sria52J71WT1",
        "outputId": "32aa72f3-dff3-42f4-93e0-ae8b982e6780"
      },
      "execution_count": 412,
      "outputs": [
        {
          "output_type": "execute_result",
          "data": {
            "text/plain": [
              "3.2868000000000004e-05"
            ]
          },
          "metadata": {},
          "execution_count": 412
        }
      ]
    },
    {
      "cell_type": "markdown",
      "source": [
        "Thus $33 \\: \\mu m$ for decay"
      ],
      "metadata": {
        "id": "5wZasMRs2Zwu"
      }
    },
    {
      "cell_type": "markdown",
      "source": [
        "##4c"
      ],
      "metadata": {
        "id": "vHEicAWF2eKz"
      }
    },
    {
      "cell_type": "markdown",
      "source": [
        "The following pulse information is lost using the interferometric autocorrelation measurements: \n",
        "\n",
        "\n",
        "\n",
        "*   phase\n",
        "*   intensity\n",
        "*   pulse shape (we can only tell the FWHM)\n",
        "\n"
      ],
      "metadata": {
        "id": "MubHu9Qb39PT"
      }
    },
    {
      "cell_type": "code",
      "source": [
        ""
      ],
      "metadata": {
        "id": "wMsdemUp1Yt8"
      },
      "execution_count": null,
      "outputs": []
    }
  ]
}