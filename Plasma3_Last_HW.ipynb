{
  "nbformat": 4,
  "nbformat_minor": 0,
  "metadata": {
    "colab": {
      "name": "Plasma3 Last HW",
      "provenance": [],
      "collapsed_sections": [],
      "authorship_tag": "ABX9TyOelUEWTfeswooVud8ngyhq",
      "include_colab_link": true
    },
    "kernelspec": {
      "name": "python3",
      "display_name": "Python 3"
    },
    "language_info": {
      "name": "python"
    }
  },
  "cells": [
    {
      "cell_type": "markdown",
      "metadata": {
        "id": "view-in-github",
        "colab_type": "text"
      },
      "source": [
        "<a href=\"https://colab.research.google.com/github/erny123/HW/blob/main/Plasma3_Last_HW.ipynb\" target=\"_parent\"><img src=\"https://colab.research.google.com/assets/colab-badge.svg\" alt=\"Open In Colab\"/></a>"
      ]
    },
    {
      "cell_type": "markdown",
      "source": [
        "#Ernesto Barraza-Valdez\n",
        "\n",
        "#Plasma 3-HW 9\n",
        "\n",
        "\n",
        "---\n",
        "\n"
      ],
      "metadata": {
        "id": "6wgyQbBb0G8o"
      }
    },
    {
      "cell_type": "markdown",
      "source": [
        "#1a)\n",
        "\n",
        "Given $\\omega_0$ we can write down the 5 equations for a parametric system: \n",
        "\n",
        "Manley Rowe:\n",
        "\n",
        "$\\omega_0 = \\omega_1 + \\omega_2 $\n",
        "\n",
        "$\\vec{k}_0 = \\vec{k}_1 + \\vec{k}_2 $\n",
        "\n",
        "Dispersions:\n",
        "\n",
        "$\\omega_0^2 = \\omega_p^2 + c^2 k_0^2 $\n",
        "\n",
        "$\\omega_1^2 = \\omega_p^2 + \\frac{3}{2} v_e^2 k_1^2 $\n",
        "\n",
        "$\\omega_2^2 = \\omega_p^2 + \\frac{3}{2} v_e^2 k_2^2 $\n",
        "\n",
        "\n",
        "---\n",
        "\n",
        "\n",
        "\n",
        "---\n",
        "\n"
      ],
      "metadata": {
        "id": "h4j1XzSh0QV_"
      }
    },
    {
      "cell_type": "markdown",
      "source": [
        "#1b) \n",
        "\n",
        "given $v_e = 0.3 c$ and $\\omega_0 = \\sqrt{5} \\omega_p$ we can find $\\omega_1$ and $\\omega_1$ and corresponding wave vectors for a 1D system"
      ],
      "metadata": {
        "id": "6zDrQDhW1G-Y"
      }
    },
    {
      "cell_type": "code",
      "execution_count": 1,
      "metadata": {
        "id": "87W5XkzmCLfO"
      },
      "outputs": [],
      "source": [
        "import numpy as np\n",
        "import matplotlib.pyplot as plt\n",
        "import matplotlib.colors as colors\n",
        "import matplotlib.ticker as plticker\n",
        "from matplotlib.ticker import FixedFormatter, FixedLocator\n",
        "plt.rcParams['figure.figsize'] = [6, 4]\n",
        "plt.rcParams['figure.dpi'] = 120 # 200 e.g. is really fine, but slower\n",
        "import random\n",
        "import pandas as pd\n",
        "from ipywidgets import interactive\n",
        "%matplotlib inline\n",
        "from sympy import *"
      ]
    },
    {
      "cell_type": "code",
      "source": [
        "q = 1.6*10**(-19)\n",
        "eps = 8.85e-12\n",
        "m = 9.1e-31\n",
        "amu = 1.66e-27\n",
        "mi = 12*amu\n",
        "c = 2.998e8\n",
        "kboltz = 1.38e-23\n",
        "kboltzKtoEV = 8.61e-5\n",
        "JtoeV = 1/(1.6e-19)\n",
        "ve = 0.3*c\n",
        "\n",
        "kp = np.arange(-3,3,0.1)\n",
        "#kp = np.linspace(-5, 5, 0.1)"
      ],
      "metadata": {
        "id": "-B-zAY9kCoMP"
      },
      "execution_count": 11,
      "outputs": []
    },
    {
      "cell_type": "code",
      "source": [
        "w0 = Symbol('w0')\n",
        "w1 = Symbol('w1')\n",
        "w2 = Symbol('w2')\n",
        "k0 = Symbol('k0')\n",
        "k1 = Symbol('k1')\n",
        "k2 = Symbol('k2')"
      ],
      "metadata": {
        "id": "XRQ4qGZo1j5M"
      },
      "execution_count": 3,
      "outputs": []
    },
    {
      "cell_type": "code",
      "source": [
        "eq0 = sqrt(5) -sqrt(1+k0**2)\n",
        "eq1 = w1 - sqrt(1 + 3/2* 0.3**2 * k1**2)\n",
        "eq2 = w2 - sqrt(1 + 3/2* 0.3**2 * k2**2)\n",
        "eq3 = sqrt(5) - w1- w2\n",
        "eq4 = k0 - k1 - k2"
      ],
      "metadata": {
        "id": "TQIBt4lR1l1d"
      },
      "execution_count": 4,
      "outputs": []
    },
    {
      "cell_type": "code",
      "source": [
        "solve([eq0,eq1,eq2,eq3,eq4], (k0,w1,k1,w2,k2))"
      ],
      "metadata": {
        "colab": {
          "base_uri": "https://localhost:8080/"
        },
        "id": "aYalmyk71qYN",
        "outputId": "236e684b-02b4-400c-f6f5-c2a66bc1d72c"
      },
      "execution_count": 5,
      "outputs": [
        {
          "output_type": "execute_result",
          "data": {
            "text/plain": [
              "[(2.00000000000000,\n",
              "  1.00003497682122,\n",
              "  0.0227636594432406,\n",
              "  1.23603300067857,\n",
              "  1.97723634055676),\n",
              " (2.00000000000000,\n",
              "  1.23603300067857,\n",
              "  1.97723634055676,\n",
              "  1.00003497682122,\n",
              "  0.0227636594432406)]"
            ]
          },
          "metadata": {},
          "execution_count": 5
        }
      ]
    },
    {
      "cell_type": "code",
      "source": [
        "w0 = np.sqrt(1 + kp**2)\n",
        "w1 = np.sqrt(1+3/2 * 0.3**2*kp**2)\n",
        "\n",
        "plt.plot(kp,w0,linewidth=3)\n",
        "plt.plot(kp,w1,linewidth=3)\n",
        "plt.arrow(0,0,2.0,np.sqrt(5),length_includes_head=True,width=0.05)\n",
        "plt.axhline(y=np.sqrt(5),color = 'r', linestyle = 'dashed' )\n",
        "plt.axhline(y=1,color = 'orange', linestyle = 'dashed' )\n",
        "plt.text(-3, np.sqrt(5)-0.25, '$\\sqrt{5} \\omega_p$', fontsize = 16, color='red')\n",
        "plt.arrow(0,0,0.02,1.0,length_includes_head=True,width=0.05)\n",
        "plt.arrow(0,0,1.98,1.24,length_includes_head=True,width=0.05)\n",
        "plt.ylim([0,2.5])\n",
        "plt.xlabel(\"$k/k_p$\",fontsize = 16)\n",
        "plt.ylabel(\"$\\omega/\\omega_p$\",fontsize = 16)"
      ],
      "metadata": {
        "colab": {
          "base_uri": "https://localhost:8080/",
          "height": 311
        },
        "id": "Emk8X5xWDQqX",
        "outputId": "0b73f028-fa32-4e7d-8c4d-c1a046559bb4"
      },
      "execution_count": 7,
      "outputs": [
        {
          "output_type": "execute_result",
          "data": {
            "text/plain": [
              "Text(0, 0.5, '$\\\\omega/\\\\omega_p$')"
            ]
          },
          "metadata": {},
          "execution_count": 7
        },
        {
          "output_type": "display_data",
          "data": {
            "image/png": "[encoded data removed]",
            "text/plain": [
              "<Figure size 432x288 with 1 Axes>"
            ]
          },
          "metadata": {
            "needs_background": "light"
          }
        }
      ]
    },
    {
      "cell_type": "markdown",
      "source": [
        "#1c)\n",
        "\n",
        "THe lowest frequencies for the plasmons is $\\omega_1 = \\omega_2 = \\omega_p$\n",
        "\n",
        "Thus \n",
        "\n",
        "$\\omega_0 = \\omega_1 + \\omega_2 = 2\\cdot \\omega_p$\n",
        "\n",
        "Is the lowest frequency possible for this decay instability. We convert the laser frequency to an equivalent critical density ($\\omega_0 → n_c$), and also the plasma frequency to an equivalent plasma density ($\\omega_p → n_e$) using $n = \\epsilon_0 m \\omega^2/e^2$:\n",
        "\n",
        "$n_c = 4\\cdot n_e → n_e = \\frac{1}{4}n_c$\n",
        "\n",
        "\n",
        "\n"
      ],
      "metadata": {
        "id": "EzJwYYg82At0"
      }
    },
    {
      "cell_type": "markdown",
      "source": [
        "#1d)\n",
        "\n",
        "For a 351 nm Laser we have for $\\omega_0$"
      ],
      "metadata": {
        "id": "YS6FEofz3vyq"
      }
    },
    {
      "cell_type": "code",
      "source": [
        "wlaser = 2*np.pi * c/351e-9\n",
        "\n",
        "print(\"{:0.2e}\".format(wlaser))"
      ],
      "metadata": {
        "colab": {
          "base_uri": "https://localhost:8080/"
        },
        "id": "C7nYGdYt4VRJ",
        "outputId": "f0b60a11-742f-4c8b-f866-73f4c56a6f1e"
      },
      "execution_count": 10,
      "outputs": [
        {
          "output_type": "stream",
          "name": "stdout",
          "text": [
            "5.37e+15\n"
          ]
        }
      ]
    },
    {
      "cell_type": "markdown",
      "source": [
        "Then the plasma density will have to be 1/4 the critical density or less:"
      ],
      "metadata": {
        "id": "oE-TlnP341DZ"
      }
    },
    {
      "cell_type": "code",
      "source": [
        "ncrit = eps*m*wlaser**2 /q**2\n",
        "print(\"Critical Density = {:0.2e} /m^3\".format(ncrit))"
      ],
      "metadata": {
        "colab": {
          "base_uri": "https://localhost:8080/"
        },
        "id": "moMhlLjy4nHj",
        "outputId": "6825a03a-1135-42a3-b495-ad7cd4a41955"
      },
      "execution_count": 14,
      "outputs": [
        {
          "output_type": "stream",
          "name": "stdout",
          "text": [
            "Critical Density = 9.06e+27 /m^3\n"
          ]
        }
      ]
    },
    {
      "cell_type": "code",
      "source": [
        "print(\"1/4 Critical Density = {:0.2e} /m^3\".format(ncrit/4))"
      ],
      "metadata": {
        "colab": {
          "base_uri": "https://localhost:8080/"
        },
        "id": "iMF04q7b5Lqc",
        "outputId": "62d9847e-0c1e-4c44-f1d7-567643655072"
      },
      "execution_count": 15,
      "outputs": [
        {
          "output_type": "stream",
          "name": "stdout",
          "text": [
            "1/4 Critical Density = 2.27e+27 /m^3\n"
          ]
        }
      ]
    },
    {
      "cell_type": "markdown",
      "source": [
        "Thus NIF laser will only see two-plasmon decay if the plasma target is has a density equal to or below $n_e = 2.27 \\times 10^{27} m^{-3}$"
      ],
      "metadata": {
        "id": "k2UF2d6i5hSf"
      }
    },
    {
      "cell_type": "code",
      "source": [
        ""
      ],
      "metadata": {
        "id": "wC2pZDhp5fvG"
      },
      "execution_count": null,
      "outputs": []
    }
  ]
}